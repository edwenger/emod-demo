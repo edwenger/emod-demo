{
 "cells": [
  {
   "cell_type": "markdown",
   "id": "88262718",
   "metadata": {},
   "source": [
    "## emodlib test\n",
    "\n",
    "Copying some test settings over from [emodlib](https://github.com/edwenger/emodlib)..."
   ]
  },
  {
   "cell_type": "markdown",
   "id": "a9eaae0d",
   "metadata": {},
   "source": [
    "First let's grab some default malaria intra-host model parameters from file..."
   ]
  },
  {
   "cell_type": "code",
   "execution_count": 1,
   "id": "accfefd8",
   "metadata": {},
   "outputs": [
    {
     "name": "stdout",
     "output_type": "stream",
     "text": [
      "Falciparum_MSP_Variants: 32\n",
      "Falciparum_Nonspecific_Types: 76\n",
      "Falciparum_PfEMP1_Variants: 1070\n",
      "Max_Individual_Infections: 5\n",
      "Run_Number: 12345\n",
      "infection_params:\n",
      "  Antibody_IRBC_Kill_Rate: 1.596\n",
      "  Antigen_Switch_Rate: 7.645570124964182e-10\n",
      "  Base_Gametocyte_Fraction_Male: 0.2\n",
      "  Base_Gametocyte_Production_Rate: 0.06150582\n",
      "  Base_Incubation_Period: 7\n",
      "  Gametocyte_Stage_Survival_Rate: 0.588569307\n",
      "  MSP1_Merozoite_Kill_Fraction: 0.511735322\n",
      "  Merozoites_Per_Hepatocyte: 15000\n",
      "  Merozoites_Per_Schizont: 16\n",
      "  Nonspecific_Antigenicity_Factor: 0.415111634\n",
      "  Number_Of_Asexual_Cycles_Without_Gametocytes: 1\n",
      "  RBC_Destruction_Multiplier: 3.29\n",
      "susceptibility_params:\n",
      "  Antibody_CSP_Decay_Days: 90\n",
      "  Antibody_Capacity_Growth_Rate: 0.09\n",
      "  Antibody_Memory_Level: 0.34\n",
      "  Antibody_Stimulation_C50: 30\n",
      "  Erythropoiesis_Anemia_Effect: 3.5\n",
      "  Fever_IRBC_Kill_Rate: 1.4\n",
      "  Maternal_Antibody_Decay_Rate: 0.01\n",
      "  Max_MSP1_Antibody_Growthrate: 0.045\n",
      "  Min_Adapted_Response: 0.05\n",
      "  Nonspecific_Antibody_Growth_Rate_Factor: 0.5\n",
      "  Pyrogenic_Threshold: 15000.0\n",
      "\n"
     ]
    }
   ],
   "source": [
    "import yaml\n",
    "\n",
    "with open('config.yaml') as cfg:\n",
    "    params = yaml.load(cfg, Loader=yaml.FullLoader)\n",
    "    \n",
    "print(yaml.dump(params))"
   ]
  },
  {
   "cell_type": "markdown",
   "id": "fff5da47",
   "metadata": {},
   "source": [
    "Now let's define a little helper function to print a descriptive line for the model state..."
   ]
  },
  {
   "cell_type": "code",
   "execution_count": 2,
   "id": "4241f97c",
   "metadata": {},
   "outputs": [],
   "source": [
    "def describe(c, t=None):\n",
    "    \"\"\" Helper function to print a description of the intra-host model state \"\"\"\n",
    "    s = 't=%d: ' % t if t is not None else ''\n",
    "    s += '(asexual, mature gametocyte, fever) = (%0.2f, %0.3f, %0.1f)' % \\\n",
    "        (c.parasite_density, c.gametocyte_density, c.fever_temperature)\n",
    "    print(s)"
   ]
  },
  {
   "cell_type": "markdown",
   "id": "4445f540",
   "metadata": {},
   "source": [
    "Now let's import the python bindings for the emodlib-malaria library, configure the static parameters of the intra-host model, create a new intra-host model component instance, and challenge that component with a new infection."
   ]
  },
  {
   "cell_type": "code",
   "execution_count": 3,
   "id": "66734339",
   "metadata": {},
   "outputs": [],
   "source": [
    "from emodlib.malaria import IntrahostComponent\n",
    "\n",
    "IntrahostComponent.configure(params)\n",
    "\n",
    "ic = IntrahostComponent.create()\n",
    "\n",
    "ic.challenge()"
   ]
  },
  {
   "cell_type": "markdown",
   "id": "d4a999a7",
   "metadata": {},
   "source": [
    "Let's do enough timestep updates to see the emergence of asexual-stage parasites from the liver, the onset of fever with high parasite density, and the progression of differentiated gametocytes to mature gametocytes."
   ]
  },
  {
   "cell_type": "code",
   "execution_count": 4,
   "id": "0e4938c6",
   "metadata": {},
   "outputs": [
    {
     "name": "stdout",
     "output_type": "stream",
     "text": [
      "t=0: (asexual, mature gametocyte, fever) = (0.00, 0.000, 37.0)\n",
      "t=1: (asexual, mature gametocyte, fever) = (0.00, 0.000, 37.0)\n",
      "t=2: (asexual, mature gametocyte, fever) = (0.00, 0.000, 37.0)\n",
      "t=3: (asexual, mature gametocyte, fever) = (0.00, 0.000, 37.0)\n",
      "t=4: (asexual, mature gametocyte, fever) = (0.00, 0.000, 37.0)\n",
      "t=5: (asexual, mature gametocyte, fever) = (0.00, 0.000, 37.0)\n",
      "t=6: (asexual, mature gametocyte, fever) = (0.00, 0.000, 37.0)\n",
      "t=7: (asexual, mature gametocyte, fever) = (0.00, 0.000, 37.0)\n",
      "t=8: (asexual, mature gametocyte, fever) = (0.05, 0.000, 37.0)\n",
      "t=9: (asexual, mature gametocyte, fever) = (0.05, 0.000, 37.0)\n",
      "t=10: (asexual, mature gametocyte, fever) = (0.71, 0.000, 37.0)\n",
      "t=11: (asexual, mature gametocyte, fever) = (0.71, 0.000, 37.0)\n",
      "t=12: (asexual, mature gametocyte, fever) = (10.61, 0.000, 37.0)\n",
      "t=13: (asexual, mature gametocyte, fever) = (10.61, 0.000, 37.0)\n",
      "t=14: (asexual, mature gametocyte, fever) = (158.18, 0.000, 37.0)\n",
      "t=15: (asexual, mature gametocyte, fever) = (158.18, 0.000, 37.1)\n",
      "t=16: (asexual, mature gametocyte, fever) = (2359.20, 0.000, 37.1)\n",
      "t=17: (asexual, mature gametocyte, fever) = (2359.20, 0.000, 38.1)\n",
      "t=18: (asexual, mature gametocyte, fever) = (35184.98, 0.000, 38.1)\n",
      "t=19: (asexual, mature gametocyte, fever) = (6473.20, 0.000, 43.2)\n",
      "t=20: (asexual, mature gametocyte, fever) = (17370.03, 0.002, 41.9)\n",
      "t=21: (asexual, mature gametocyte, fever) = (2538.04, 0.002, 44.6)\n",
      "t=22: (asexual, mature gametocyte, fever) = (11727.53, 0.031, 37.0)\n",
      "t=23: (asexual, mature gametocyte, fever) = (2824.28, 0.023, 37.6)\n",
      "t=24: (asexual, mature gametocyte, fever) = (8699.24, 0.462, 37.0)\n",
      "t=25: (asexual, mature gametocyte, fever) = (1623.46, 0.350, 37.6)\n",
      "t=26: (asexual, mature gametocyte, fever) = (4164.89, 6.888, 37.0)\n",
      "t=27: (asexual, mature gametocyte, fever) = (610.13, 5.222, 37.4)\n",
      "t=28: (asexual, mature gametocyte, fever) = (1187.61, 102.727, 37.0)\n",
      "t=29: (asexual, mature gametocyte, fever) = (146.43, 77.877, 37.2)\n"
     ]
    }
   ],
   "source": [
    "for t in range(30):\n",
    "    ic.update(dt=1)\n",
    "    describe(ic, t)"
   ]
  },
  {
   "cell_type": "markdown",
   "id": "bdcc09b4",
   "metadata": {},
   "source": [
    "And finally treat the individual and see their infections are now gone..."
   ]
  },
  {
   "cell_type": "code",
   "execution_count": 5,
   "id": "3ad8946a",
   "metadata": {},
   "outputs": [
    {
     "name": "stdout",
     "output_type": "stream",
     "text": [
      "(asexual, mature gametocyte, fever) = (0.00, 0.000, 37.2)\n"
     ]
    }
   ],
   "source": [
    "ic.treat()\n",
    "describe(ic)"
   ]
  }
 ],
 "metadata": {
  "kernelspec": {
   "display_name": "Python 3 (ipykernel)",
   "language": "python",
   "name": "python3"
  },
  "language_info": {
   "codemirror_mode": {
    "name": "ipython",
    "version": 3
   },
   "file_extension": ".py",
   "mimetype": "text/x-python",
   "name": "python",
   "nbconvert_exporter": "python",
   "pygments_lexer": "ipython3",
   "version": "3.9.9"
  }
 },
 "nbformat": 4,
 "nbformat_minor": 5
}
