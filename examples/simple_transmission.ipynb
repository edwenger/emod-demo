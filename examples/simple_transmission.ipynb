{
 "cells": [
  {
   "attachments": {},
   "cell_type": "markdown",
   "metadata": {},
   "source": [
    "Use a simple container to hold lagged infectiousness to pass between individuals..."
   ]
  },
  {
   "cell_type": "code",
   "execution_count": 60,
   "metadata": {},
   "outputs": [
    {
     "data": {
      "text/plain": [
       "array([[1., 0., 0., 0., 0.],\n",
       "       [0., 1., 0., 0., 0.],\n",
       "       [0., 0., 1., 0., 0.],\n",
       "       [0., 0., 0., 1., 0.],\n",
       "       [0., 0., 0., 0., 1.]])"
      ]
     },
     "execution_count": 60,
     "metadata": {},
     "output_type": "execute_result"
    }
   ],
   "source": [
    "import numpy as np\n",
    "\n",
    "n = 5  # n_locations \n",
    "f = 0  # all-to-all fraction (vs. local component)\n",
    "\n",
    "mixing = (f/n * np.ones((n, n)) + \n",
    "          (1-f) * np.eye(n))\n",
    "\n",
    "mixing"
   ]
  },
  {
   "cell_type": "code",
   "execution_count": 61,
   "metadata": {},
   "outputs": [],
   "source": [
    "x_vc = 0.5  # vectorial capacity multiplier\n",
    "vc = np.ones(n) * x_vc\n",
    "\n",
    "# TODO: incorporate mixing into vc_matrix and use in step() function??"
   ]
  },
  {
   "cell_type": "code",
   "execution_count": 62,
   "metadata": {},
   "outputs": [],
   "source": [
    "lag_days = 10\n",
    "\n",
    "transmissions = np.zeros((n, lag_days))"
   ]
  },
  {
   "cell_type": "code",
   "execution_count": 63,
   "metadata": {},
   "outputs": [],
   "source": [
    "from emodlib.malaria import IntrahostComponent\n",
    "\n",
    "individuals_per_pop = 5\n",
    "pops = {i: [IntrahostComponent.create() for _ in range(individuals_per_pop)] for i in range(n)}"
   ]
  },
  {
   "cell_type": "code",
   "execution_count": 64,
   "metadata": {},
   "outputs": [],
   "source": [
    "for i, pop in pops.items():\n",
    "    pop[0].challenge()"
   ]
  },
  {
   "cell_type": "code",
   "execution_count": 65,
   "metadata": {},
   "outputs": [],
   "source": [
    "def summary(pops):\n",
    "    infected = {i: sum([ic.n_infections > 0 for ic in pop]) for i, pop in pops.items()}\n",
    "    infectiousness = {i: sum([ic.infectiousness for ic in pop]) for i, pop in pops.items()}\n",
    "    print('Infected: {}\\nInfectiousness: {}'.format(infected, infectiousness))"
   ]
  },
  {
   "cell_type": "code",
   "execution_count": 66,
   "metadata": {},
   "outputs": [
    {
     "name": "stdout",
     "output_type": "stream",
     "text": [
      "Infected: {0: 1, 1: 1, 2: 1, 3: 1, 4: 1}\n",
      "Infectiousness: {0: 0.0, 1: 0.0, 2: 0.0, 3: 0.0, 4: 0.0}\n"
     ]
    }
   ],
   "source": [
    "summary(pops)"
   ]
  },
  {
   "cell_type": "code",
   "execution_count": 67,
   "metadata": {},
   "outputs": [],
   "source": [
    "def step(pops, transmissions, updates_per_day=2):\n",
    "\n",
    "    challenges = transmissions[:, -1].copy()  # cache final lagged values\n",
    "\n",
    "    transmissions[:,1:] = transmissions[:, :-1]  # shift forward lagged by day\n",
    "\n",
    "    for i, pop in pops.items():\n",
    "        for ic in pop:\n",
    "\n",
    "            for _ in range(updates_per_day):\n",
    "                ic.update(dt=1.0/updates_per_day)\n",
    "\n",
    "        n_challenges = np.random.poisson(challenges[i])\n",
    "        for ix in np.random.choice(len(pop), size=n_challenges):\n",
    "            pop[ix].challenge()\n",
    "\n",
    "        infectiousness = np.mean([ic.infectiousness for ic in pop])\n",
    "\n",
    "        transmissions[i][0] = infectiousness * vc[i]  # add today's infectiousness (#TODO: vc_matrix mixing)"
   ]
  },
  {
   "cell_type": "code",
   "execution_count": 90,
   "metadata": {},
   "outputs": [
    {
     "name": "stdout",
     "output_type": "stream",
     "text": [
      "Infected: {0: 4, 1: 5, 2: 3, 3: 4, 4: 1}\n",
      "Infectiousness: {0: 0.3769115204985951, 1: 0.9685992894665105, 2: 0.19582680401799735, 3: 0.13518626367658726, 4: 8.250575046986341e-05}\n"
     ]
    }
   ],
   "source": [
    "timesteps = 10\n",
    "\n",
    "for t in range(timesteps):\n",
    "    step(pops, transmissions)\n",
    "\n",
    "summary(pops)\n",
    "# print(transmissions)\n"
   ]
  }
 ],
 "metadata": {
  "kernelspec": {
   "display_name": "Python 3",
   "language": "python",
   "name": "python3"
  },
  "language_info": {
   "codemirror_mode": {
    "name": "ipython",
    "version": 3
   },
   "file_extension": ".py",
   "mimetype": "text/x-python",
   "name": "python",
   "nbconvert_exporter": "python",
   "pygments_lexer": "ipython3",
   "version": "3.10.4"
  },
  "orig_nbformat": 4
 },
 "nbformat": 4,
 "nbformat_minor": 2
}
